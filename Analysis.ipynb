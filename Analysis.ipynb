{
 "cells": [
  {
   "cell_type": "markdown",
   "id": "9ac35bbb-3608-4bc9-afa4-4c1aadf9e7b1",
   "metadata": {},
   "source": [
    "# Analysis of Brisbane Photovoltaic Installation Data\n",
    "\n",
    "\n",
    "## Introduction\n",
    "\n",
    "For this excerise I will take open data on demographic profiles of various suburbs around Brisbane to answer four questions relating to a problem statement. \n",
    "The problem statement is:\n",
    "> Our customer wishes to use this data to understand possible demand for solar panel installations when entering a new region, where counts of installations will not be available but the other factors will be present. This will allow them to focus advertising on suburbs where they are most likely to have a high demand.\n",
    "\n",
    "The questions are:\n",
    "1. Please provide a summary and analysis of the factors that you determine to be important for the prediction of the likely number of installations.\n",
    "2. Please give a description of any surprising findings or spurious factors that you believe may generalize poorly to new regions.\n",
    "3. Please provide any caveats (or “gotchas”) that you believe may undermine the power of any predictive model developed from these factors.\n",
    "4. Please outline any data you would wish to augment this dataset with to make a more powerful predictive model or any experiments you would propose to rule out spurious correlations.\n",
    "\n",
    "I will include a preamble to each question that tries to explain my approach and then I will follow it with analysis and finally by a conclusion and answer.\n",
    "\n",
    "---\n",
    "\n",
    "## Import packages and data"
   ]
  },
  {
   "cell_type": "code",
   "execution_count": 1,
   "id": "f52bf4ee-16d4-49d7-8696-2a0b52bed7ad",
   "metadata": {},
   "outputs": [],
   "source": [
    "# Import packages\n",
    "import pandas as pd\n",
    "import plotly.express as px\n",
    "\n",
    "# Read in data file to dataframe\n",
    "df = pd.read_excel('Brisbane Suburbs Stats Separated V2.0.xlsx')"
   ]
  },
  {
   "cell_type": "markdown",
   "id": "89b6802f-142f-471c-b32c-df2ca33923f5",
   "metadata": {},
   "source": [
    "---\n",
    "\n",
    "## Question 1\n",
    "\n",
    "> Please provide a summary and analysis of the factors that you determine to be important for the prediction of the likely number of installations.\n",
    "\n",
    "---"
   ]
  },
  {
   "cell_type": "code",
   "execution_count": null,
   "id": "741c5bf7-eb36-4004-809b-444ad25deb77",
   "metadata": {},
   "outputs": [],
   "source": []
  },
  {
   "cell_type": "markdown",
   "id": "0e1145ac-cc01-4007-b505-2094de6e449e",
   "metadata": {},
   "source": [
    "---\n",
    "\n",
    "## Question 2\n",
    "\n",
    "> Please give a description of any surprising findings or spurious factors that you believe may generalize poorly to new regions.\n",
    "\n",
    "---"
   ]
  },
  {
   "cell_type": "code",
   "execution_count": null,
   "id": "f75366e4-bd94-4d43-aae9-47dc3c228b37",
   "metadata": {},
   "outputs": [],
   "source": []
  },
  {
   "cell_type": "markdown",
   "id": "23ca22ec-56d9-413a-8c4c-8a6b51cf93d1",
   "metadata": {},
   "source": [
    "---\n",
    "\n",
    "## Question 3\n",
    "\n",
    "> Please provide any caveats (or “gotchas”) that you believe may undermine the power of any predictive model developed from these factors.\n",
    "\n",
    "---"
   ]
  },
  {
   "cell_type": "code",
   "execution_count": null,
   "id": "96f87e46-c200-4201-a118-73eff8138e73",
   "metadata": {},
   "outputs": [],
   "source": []
  },
  {
   "cell_type": "markdown",
   "id": "434222bb-bb5d-4f8b-885c-a6381ea11b8a",
   "metadata": {},
   "source": [
    "---\n",
    "\n",
    "## Question 4\n",
    "\n",
    "> Please outline any data you would wish to augment this dataset with to make a more powerful predictive model or any experiments you would propose to rule out spurious correlations.\n",
    "\n",
    "---"
   ]
  },
  {
   "cell_type": "code",
   "execution_count": null,
   "id": "2b5a8f99-63f2-403e-b631-98d77fb1b13c",
   "metadata": {},
   "outputs": [],
   "source": []
  },
  {
   "cell_type": "markdown",
   "id": "fc4b827f-347e-4056-95ec-4c9852e6145c",
   "metadata": {},
   "source": [
    "---"
   ]
  }
 ],
 "metadata": {
  "kernelspec": {
   "display_name": "Python 3 (ipykernel)",
   "language": "python",
   "name": "python3"
  },
  "language_info": {
   "codemirror_mode": {
    "name": "ipython",
    "version": 3
   },
   "file_extension": ".py",
   "mimetype": "text/x-python",
   "name": "python",
   "nbconvert_exporter": "python",
   "pygments_lexer": "ipython3",
   "version": "3.10.2"
  }
 },
 "nbformat": 4,
 "nbformat_minor": 5
}
